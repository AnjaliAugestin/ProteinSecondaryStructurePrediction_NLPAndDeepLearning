{
 "cells": [
  {
   "cell_type": "markdown",
   "id": "eed4c17d",
   "metadata": {},
   "source": [
    "# importing libraries"
   ]
  },
  {
   "cell_type": "code",
   "execution_count": 1,
   "id": "78c6da9f",
   "metadata": {},
   "outputs": [],
   "source": [
    "import numpy as np\n",
    "import pandas as pd\n",
    "from sklearn.preprocessing import LabelEncoder\n",
    "from gensim.models import Word2Vec\n",
    "from tensorflow.keras.utils import to_categorical\n",
    "from tensorflow.keras.models import Sequential\n",
    "from tensorflow.keras.layers import LSTM, Dense, Embedding, TimeDistributed, Bidirectional\n",
    "from tensorflow.keras.preprocessing.sequence import pad_sequences\n",
    "from sklearn.model_selection import train_test_split\n",
    "from sklearn.metrics import confusion_matrix, classification_report\n",
    "import seaborn as sns\n",
    "import matplotlib.pyplot as plt"
   ]
  },
  {
   "cell_type": "markdown",
   "id": "fc334e3d",
   "metadata": {},
   "source": [
    "# Data loading"
   ]
  },
  {
   "cell_type": "code",
   "execution_count": 2,
   "id": "322d8d7e",
   "metadata": {},
   "outputs": [
    {
     "name": "stdout",
     "output_type": "stream",
     "text": [
      "                                                   0\n",
      "0  F D Y Q T V Y F A N Q Y G L R T I E L G E S E ...\n",
      "1  R P E S E L I R Q S W R V V S R S P L E H G T ...\n",
      "2  M K I A I L G A G C Y R T H A A A G I T N F M ...\n",
      "3  R R T V P R G T L R K I I K K H K P H L R L A ...\n",
      "4  Q V E I S X A E W D V X N I I W D K K S V S A ...\n"
     ]
    }
   ],
   "source": [
    "import pandas as pd\n",
    "\n",
    "# Loading the  data file without headers\n",
    "data_train_X = pd.read_csv(\"readable_datasets/amino_acids_train.txt\", header=None)\n",
    "\n",
    "# printing the head of the data\n",
    "print(data_train_X.head())"
   ]
  },
  {
   "cell_type": "code",
   "execution_count": 3,
   "id": "ce69a6ec",
   "metadata": {},
   "outputs": [],
   "source": [
    "# loading all the data files\n",
    "data_train_y = pd.read_csv(\"readable_datasets/pss_train.txt\", header=None)\n",
    "data_test_X = pd.read_csv(\"readable_datasets/amino_acids_test.txt\", header=None)\n",
    "data_test_y = pd.read_csv(\"readable_datasets/pss_test.txt\", header=None)"
   ]
  },
  {
   "cell_type": "markdown",
   "id": "61916800",
   "metadata": {},
   "source": [
    "# Data analysis"
   ]
  },
  {
   "cell_type": "code",
   "execution_count": 4,
   "id": "3f52654d",
   "metadata": {},
   "outputs": [
    {
     "name": "stdout",
     "output_type": "stream",
     "text": [
      "                                                   0\n",
      "0  V P S L A T I S L E N S W S G L S K Q I Q L A ...\n",
      "1  M F K V Y G Y D S N I H K C V Y C D N A K R L ...\n",
      "2  T P E M P V L E N R A A Q G N I T A P G G A R ...\n",
      "3  A P A F S V S P A S G A S D G Q S V S V S V A ...\n",
      "4  T P A F N K P K V E L H V H L D G A I K P E T ...\n",
      "                                                   0\n",
      "0  L L L L E E E L S L S E E E E E E E L S L L S ...\n",
      "1  L L S H H H H H H H H H H H H T S H H H H H H ...\n",
      "2  L E E E E E L L L L S H H H H H H L L L L L H ...\n",
      "3  L L L L L H H H H H H H H H H H L T T L L L L ...\n",
      "4  L L L L L H H H H H H H H H H H H S S S E E H ...\n",
      "                                                   0\n",
      "0  L L L H H H H H H H H H H H H H H H H H H H H ...\n",
      "1  L E E E E E L L T T T S L L H H H H H H H H H ...\n",
      "2  L L L L L L L L L L S L L S L T T S T T T T L ...\n",
      "3  L L E E E E E L L S S L L S S L E E E E E E E ...\n",
      "4  L L S L L S L E E E E E E E G G G S L L H H H ...\n"
     ]
    }
   ],
   "source": [
    "print(data_test_X.head())\n",
    "print(data_train_y.head())\n",
    "print(data_test_y.head())"
   ]
  },
  {
   "cell_type": "code",
   "execution_count": 5,
   "id": "14b3e07b",
   "metadata": {},
   "outputs": [
    {
     "name": "stdout",
     "output_type": "stream",
     "text": [
      "(5534, 1)\n"
     ]
    }
   ],
   "source": [
    "# analysing the shape of the data\n",
    "\n",
    "\n",
    "print(data_train_X.shape) "
   ]
  },
  {
   "cell_type": "code",
   "execution_count": 6,
   "id": "c1d1fa8b",
   "metadata": {},
   "outputs": [
    {
     "name": "stdout",
     "output_type": "stream",
     "text": [
      "(5534, 1)\n"
     ]
    }
   ],
   "source": [
    "print(data_train_y.shape)"
   ]
  },
  {
   "cell_type": "code",
   "execution_count": 7,
   "id": "2567c048",
   "metadata": {},
   "outputs": [
    {
     "name": "stdout",
     "output_type": "stream",
     "text": [
      "(514, 1)\n"
     ]
    }
   ],
   "source": [
    "print(data_test_X.shape)"
   ]
  },
  {
   "cell_type": "code",
   "execution_count": 8,
   "id": "ee524b82",
   "metadata": {},
   "outputs": [
    {
     "name": "stdout",
     "output_type": "stream",
     "text": [
      "(514, 1)\n"
     ]
    }
   ],
   "source": [
    "print(data_test_y.shape)"
   ]
  },
  {
   "cell_type": "code",
   "execution_count": 9,
   "id": "20f3a146",
   "metadata": {},
   "outputs": [
    {
     "name": "stdout",
     "output_type": "stream",
     "text": [
      "0    0\n",
      "dtype: int64\n",
      "0    0\n",
      "dtype: int64\n",
      "0    0\n",
      "dtype: int64\n",
      "0    0\n",
      "dtype: int64\n"
     ]
    }
   ],
   "source": [
    "# checking for null values\n",
    "print(data_train_X.isna().sum()) \n",
    "print(data_train_y.isna().sum())\n",
    "print(data_test_X.isna().sum()) \n",
    "print(data_test_y.isna().sum()) "
   ]
  },
  {
   "cell_type": "markdown",
   "id": "f0c25c77",
   "metadata": {},
   "source": [
    "# Data preprocessing"
   ]
  },
  {
   "cell_type": "code",
   "execution_count": 10,
   "id": "d49fccae",
   "metadata": {},
   "outputs": [
    {
     "name": "stdout",
     "output_type": "stream",
     "text": [
      "Extracted sequence successfully.\n"
     ]
    }
   ],
   "source": [
    "# `data_train_X` and `data_test_X` have only one column, converting them to list\n",
    "amino_acids_train = data_train_X.iloc[:, 0].tolist()\n",
    "amino_acid_test = data_test_X.iloc[:, 0].tolist()\n",
    "print(\"Extracted sequence successfully.\")"
   ]
  },
  {
   "cell_type": "code",
   "execution_count": 11,
   "id": "ab60f1e6",
   "metadata": {},
   "outputs": [],
   "source": [
    "# print(amino_acids_train)\n",
    "# print(amino_acids_test)"
   ]
  },
  {
   "cell_type": "code",
   "execution_count": 12,
   "id": "172f0c5e",
   "metadata": {},
   "outputs": [
    {
     "name": "stdout",
     "output_type": "stream",
     "text": [
      "Extracted sequence successfully.\n"
     ]
    }
   ],
   "source": [
    "# coverting the pss data to list\n",
    "pss_train = data_train_y.iloc[:, 0].tolist()\n",
    "pss_test = data_test_y.iloc[:, 0].tolist()\n",
    "print(\"Extracted sequence successfully.\")"
   ]
  },
  {
   "cell_type": "code",
   "execution_count": 13,
   "id": "64d41715",
   "metadata": {},
   "outputs": [],
   "source": [
    "# Spliting the sequence into a list of amino acids\n",
    "amino_acids_train_tokens = [list(seq) for seq in amino_acids_train]\n",
    "amino_acids_test_tokens = [list(seq) for seq in amino_acid_test]"
   ]
  },
  {
   "cell_type": "code",
   "execution_count": 14,
   "id": "000eba3c",
   "metadata": {},
   "outputs": [],
   "source": [
    "# Defining parameters for Word2Vec\n",
    "embedding_dim = 50\n",
    "\n",
    "# Training the Word2Vec model\n",
    "word2vec_model = Word2Vec(sentences=amino_acids_train_tokens, vector_size=embedding_dim, window=5, min_count=1, workers=4)"
   ]
  },
  {
   "cell_type": "code",
   "execution_count": 15,
   "id": "9c1815e5",
   "metadata": {},
   "outputs": [],
   "source": [
    "# defining a function to extract embeddings from amino acids\n",
    "def sequence_to_embedding(sequence, model, embedding_dim):\n",
    "    \"\"\"Convert amino acid sequence to embedding using Word2Vec model.\"\"\"\n",
    "    return np.array([model.wv[aa] if aa in model.wv else np.zeros(embedding_dim) for aa in sequence])\n",
    "\n",
    "# extracting the emeddings of training and testing data\n",
    "train_embeddings = [sequence_to_embedding(seq, word2vec_model, embedding_dim) for seq in amino_acids_train_tokens]\n",
    "test_embeddings = [sequence_to_embedding(seq, word2vec_model, embedding_dim) for seq in amino_acids_test_tokens]\n",
    "\n",
    "# Padding the embeddings to make the input consistent\n",
    "max_len = max(len(seq) for seq in amino_acids_train_tokens + amino_acids_test_tokens)\n",
    "train_embeddings = pad_sequences(train_embeddings, maxlen=max_len, dtype='float32', padding='post')\n",
    "test_embeddings = pad_sequences(test_embeddings, maxlen=max_len, dtype='float32', padding='post')"
   ]
  },
  {
   "cell_type": "code",
   "execution_count": 16,
   "id": "62456aa6",
   "metadata": {},
   "outputs": [
    {
     "name": "stdout",
     "output_type": "stream",
     "text": [
      "Unique labels in training data (pss_train) before encoding: {'S', 'I', 'B', 'T', 'L', 'H', ' ', 'G', 'E'}\n",
      "Unique labels in test data (pss_test) before encoding: {'S', 'I', 'B', 'T', 'L', 'H', ' ', 'G', 'E'}\n"
     ]
    }
   ],
   "source": [
    "# Verifying unique secondary structure classes before encoding\n",
    "unique_pss_labels_train = set(\"\".join(pss_train))\n",
    "unique_pss_labels_test = set(\"\".join(pss_test))\n",
    "print(\"Unique labels in training data (pss_train) before encoding:\", unique_pss_labels_train)\n",
    "print(\"Unique labels in test data (pss_test) before encoding:\", unique_pss_labels_test)"
   ]
  },
  {
   "cell_type": "code",
   "execution_count": 17,
   "id": "9fdd47f0",
   "metadata": {},
   "outputs": [
    {
     "name": "stdout",
     "output_type": "stream",
     "text": [
      "Unique labels in training data (pss_train) after removing spaces: {'S', 'I', 'B', 'T', 'L', 'H', 'G', 'E'}\n",
      "Unique labels in test data (pss_test) after removing spaces: {'S', 'I', 'B', 'T', 'L', 'H', 'G', 'E'}\n",
      "Unique encoded labels in training data: [0 1 2 3 4 5 6 7]\n",
      "Unique encoded labels in test data: [0 1 2 3 4 5 6 7]\n",
      "Shape of one-hot encoded training labels: (5534, 1399, 8)\n",
      "Shape of one-hot encoded test labels: (514, 1399, 8)\n"
     ]
    }
   ],
   "source": [
    "# Removing the spaces from the training and testing sets\n",
    "pss_train = [seq.replace(\" \", \"\") for seq in pss_train]\n",
    "pss_test = [seq.replace(\" \", \"\") for seq in pss_test]\n",
    "\n",
    "# Verifying the unique labels after removing spaces\n",
    "unique_pss_labels_train = set(\"\".join(pss_train))\n",
    "unique_pss_labels_test = set(\"\".join(pss_test))\n",
    "print(\"Unique labels in training data (pss_train) after removing spaces:\", unique_pss_labels_train)\n",
    "print(\"Unique labels in test data (pss_test) after removing spaces:\", unique_pss_labels_test)\n",
    "\n",
    "# defining the label encoder\n",
    "label_encoder = LabelEncoder()\n",
    "label_encoder.fit(list(unique_pss_labels_train | unique_pss_labels_test))  # Fit on combined unique labels from both sets\n",
    "\n",
    "# Applying the encoding\n",
    "pss_train_encoded = [label_encoder.transform(list(seq)) for seq in pss_train]\n",
    "pss_test_encoded = [label_encoder.transform(list(seq)) for seq in pss_test]\n",
    "\n",
    "# Verifying the unique classes after label encoding encoding\n",
    "print(\"Unique encoded labels in training data:\", np.unique(np.concatenate(pss_train_encoded)))\n",
    "print(\"Unique encoded labels in test data:\", np.unique(np.concatenate(pss_test_encoded)))\n",
    "\n",
    "# padding the encoded labels for model training\n",
    "pss_train_encoded = pad_sequences(pss_train_encoded, maxlen=max_len, padding='post')\n",
    "pss_test_encoded = pad_sequences(pss_test_encoded, maxlen=max_len, padding='post')\n",
    "\n",
    "# Converting the padded sequence t0 one-hot encoding labels\n",
    "pss_train_onehot = to_categorical(pss_train_encoded, num_classes=len(label_encoder.classes_))\n",
    "pss_test_onehot = to_categorical(pss_test_encoded, num_classes=len(label_encoder.classes_))\n",
    "\n",
    "# Printing the shape of test and train set after one-hot encoding\n",
    "print(\"Shape of one-hot encoded training labels:\", pss_train_onehot.shape)\n",
    "print(\"Shape of one-hot encoded test labels:\", pss_test_onehot.shape)"
   ]
  },
  {
   "cell_type": "markdown",
   "id": "ef7c869e",
   "metadata": {},
   "source": [
    "# Model training"
   ]
  },
  {
   "cell_type": "code",
   "execution_count": 18,
   "id": "ce489fba",
   "metadata": {},
   "outputs": [
    {
     "name": "stdout",
     "output_type": "stream",
     "text": [
      "Epoch 1/10\n",
      "173/173 [==============================] - 411s 2s/step - loss: 0.7046 - accuracy: 0.8363 - val_loss: 0.3529 - val_accuracy: 0.8838\n",
      "Epoch 2/10\n",
      "173/173 [==============================] - 696s 4s/step - loss: 0.4504 - accuracy: 0.8514 - val_loss: 0.3447 - val_accuracy: 0.8878\n",
      "Epoch 3/10\n",
      "173/173 [==============================] - 405s 2s/step - loss: 0.4537 - accuracy: 0.8523 - val_loss: 0.3891 - val_accuracy: 0.8907\n",
      "Epoch 4/10\n",
      "173/173 [==============================] - 376s 2s/step - loss: 0.4645 - accuracy: 0.8478 - val_loss: 0.3490 - val_accuracy: 0.8851\n",
      "Epoch 5/10\n",
      "173/173 [==============================] - 378s 2s/step - loss: 0.4509 - accuracy: 0.8513 - val_loss: 0.3496 - val_accuracy: 0.8859\n",
      "Epoch 6/10\n",
      "173/173 [==============================] - 382s 2s/step - loss: 0.4473 - accuracy: 0.8526 - val_loss: 0.3440 - val_accuracy: 0.8882\n",
      "Epoch 7/10\n",
      "173/173 [==============================] - 382s 2s/step - loss: 0.4425 - accuracy: 0.8535 - val_loss: 0.3480 - val_accuracy: 0.8867\n",
      "Epoch 8/10\n",
      "173/173 [==============================] - 411s 2s/step - loss: 0.4212 - accuracy: 0.8591 - val_loss: 0.3105 - val_accuracy: 0.8902\n",
      "Epoch 9/10\n",
      "173/173 [==============================] - 427s 2s/step - loss: 0.3746 - accuracy: 0.8707 - val_loss: 0.3041 - val_accuracy: 0.8915\n",
      "Epoch 10/10\n",
      "173/173 [==============================] - 377s 2s/step - loss: 0.3717 - accuracy: 0.8710 - val_loss: 0.3007 - val_accuracy: 0.8948\n"
     ]
    }
   ],
   "source": [
    "# Defining the LSTM model\n",
    "model = Sequential([\n",
    "    LSTM(128, return_sequences=True, input_shape=(max_len, embedding_dim)),\n",
    "    TimeDistributed(Dense(64, activation='relu')),\n",
    "    TimeDistributed(Dense(len(label_encoder.classes_), activation='softmax'))\n",
    "])\n",
    "\n",
    "model.compile(optimizer='adam', loss='categorical_crossentropy', metrics=['accuracy'])\n",
    "\n",
    "# Training of the model\n",
    "model1 = model.fit(train_embeddings, pss_train_onehot, validation_data=(test_embeddings, pss_test_onehot), epochs=10, batch_size=32)"
   ]
  },
  {
   "cell_type": "code",
   "execution_count": 19,
   "id": "4a85d51a",
   "metadata": {},
   "outputs": [
    {
     "name": "stdout",
     "output_type": "stream",
     "text": [
      "17/17 [==============================] - 12s 692ms/step - loss: 0.3007 - accuracy: 0.8948\n",
      "Test Accuracy: 89.48%\n"
     ]
    }
   ],
   "source": [
    "# Evaluating the model\n",
    "loss, accuracy = model.evaluate(test_embeddings, pss_test_onehot)\n",
    "print(f\"Test Accuracy: {accuracy * 100:.2f}%\")"
   ]
  },
  {
   "cell_type": "code",
   "execution_count": 20,
   "id": "d1440299",
   "metadata": {},
   "outputs": [
    {
     "name": "stdout",
     "output_type": "stream",
     "text": [
      "17/17 [==============================] - 13s 673ms/step\n"
     ]
    }
   ],
   "source": [
    "\n",
    "y_pred = model.predict(test_embeddings)\n",
    "y_pred_labels = np.argmax(y_pred, axis=-1).flatten()\n",
    "y_test_labels = np.argmax(pss_test_onehot, axis=-1).flatten()"
   ]
  },
  {
   "cell_type": "code",
   "execution_count": 21,
   "id": "91a3e6a5",
   "metadata": {},
   "outputs": [
    {
     "name": "stdout",
     "output_type": "stream",
     "text": [
      "Classification Report:\n"
     ]
    },
    {
     "name": "stderr",
     "output_type": "stream",
     "text": [
      "C:\\Users\\anjal\\anaconda3\\New folder\\envs\\renv\\lib\\site-packages\\sklearn\\metrics\\_classification.py:1318: UndefinedMetricWarning: Precision and F-score are ill-defined and being set to 0.0 in labels with no predicted samples. Use `zero_division` parameter to control this behavior.\n",
      "  _warn_prf(average, modifier, msg_start, len(result))\n",
      "C:\\Users\\anjal\\anaconda3\\New folder\\envs\\renv\\lib\\site-packages\\sklearn\\metrics\\_classification.py:1318: UndefinedMetricWarning: Precision and F-score are ill-defined and being set to 0.0 in labels with no predicted samples. Use `zero_division` parameter to control this behavior.\n",
      "  _warn_prf(average, modifier, msg_start, len(result))\n"
     ]
    },
    {
     "name": "stdout",
     "output_type": "stream",
     "text": [
      "              precision    recall  f1-score   support\n",
      "\n",
      "           B       0.96      0.98      0.97    635502\n",
      "           E       0.18      0.00      0.00     18016\n",
      "           G       0.00      0.00      0.00      3132\n",
      "           H       0.26      0.64      0.37     26157\n",
      "           I       0.00      0.00      0.00        30\n",
      "           L       0.49      0.07      0.12     17920\n",
      "           S       0.00      0.00      0.00      8316\n",
      "           T       0.00      0.00      0.00     10013\n",
      "\n",
      "    accuracy                           0.89    719086\n",
      "   macro avg       0.24      0.21      0.18    719086\n",
      "weighted avg       0.87      0.89      0.87    719086\n",
      "\n"
     ]
    },
    {
     "name": "stderr",
     "output_type": "stream",
     "text": [
      "C:\\Users\\anjal\\anaconda3\\New folder\\envs\\renv\\lib\\site-packages\\sklearn\\metrics\\_classification.py:1318: UndefinedMetricWarning: Precision and F-score are ill-defined and being set to 0.0 in labels with no predicted samples. Use `zero_division` parameter to control this behavior.\n",
      "  _warn_prf(average, modifier, msg_start, len(result))\n"
     ]
    }
   ],
   "source": [
    "# printing the classification report\n",
    "print(\"Classification Report:\")\n",
    "print(classification_report(y_test_labels, y_pred_labels, target_names=label_encoder.classes_))"
   ]
  },
  {
   "cell_type": "code",
   "execution_count": 22,
   "id": "410ed65b",
   "metadata": {},
   "outputs": [
    {
     "data": {
      "text/plain": [
       "Text(0.5, 1.0, 'Training and Validation Loss')"
      ]
     },
     "execution_count": 22,
     "metadata": {},
     "output_type": "execute_result"
    },
    {
     "data": {
      "image/png": "[encoded data removed]",
      "text/plain": [
       "<Figure size 1200x500 with 2 Axes>"
      ]
     },
     "metadata": {},
     "output_type": "display_data"
    }
   ],
   "source": [
    "plt.figure(figsize=(12, 5))\n",
    "\n",
    "# Plotting accuracy\n",
    "plt.subplot(1, 2, 1)\n",
    "plt.plot(model1.history['accuracy'], label='Train Accuracy')\n",
    "plt.plot(model1.history['val_accuracy'], label='Validation Accuracy')\n",
    "plt.xlabel('Epochs')\n",
    "plt.ylabel('Accuracy')\n",
    "plt.legend()\n",
    "plt.title('Training and Validation Accuracy')\n",
    "\n",
    "# Plotting loss\n",
    "plt.subplot(1, 2, 2)\n",
    "plt.plot(model1.history['loss'], label='Train Loss')\n",
    "plt.plot(model1.history['val_loss'], label='Validation Loss')\n",
    "plt.xlabel('Epochs')\n",
    "plt.ylabel('Loss')\n",
    "plt.legend()\n",
    "plt.title('Training and Validation Loss')"
   ]
  },
  {
   "cell_type": "markdown",
   "id": "9dd21bbe",
   "metadata": {},
   "source": [
    "# Hyperparametric tuning - BiLSTM with Attention Mechanism"
   ]
  },
  {
   "cell_type": "code",
   "execution_count": 18,
   "id": "eb852c12",
   "metadata": {},
   "outputs": [],
   "source": [
    "import tensorflow as tf\n",
    "from tensorflow.keras.layers import LSTM, Dense, TimeDistributed, Dropout, Bidirectional, Input, Attention\n",
    "from tensorflow.keras.models import Sequential\n",
    "from tensorflow.keras.callbacks import EarlyStopping\n",
    "\n",
    "# Defining the input shape and dimension for the model\n",
    "input_shape = (max_len, embedding_dim)\n",
    "num_classes = len(label_encoder.classes_)\n",
    "\n",
    "# Building the enhanced model\n",
    "model2 = Sequential([\n",
    "    # BiLSTM layer with 128 units\n",
    "    Bidirectional(LSTM(128, return_sequences=True), input_shape=input_shape),\n",
    "    Dropout(0.3),  # Dropout layer for regularization\n",
    "    \n",
    "    # To enhance the learning adding another BiLSTM layer\n",
    "    Bidirectional(LSTM(64, return_sequences=True)),\n",
    "    Dropout(0.3),\n",
    "    \n",
    "    # TimeDistributed Dense layer with attention\n",
    "    TimeDistributed(Dense(64, activation='relu')),\n",
    "    \n",
    "    # For focusing on important parts, attention layer is included\n",
    "    TimeDistributed(Dense(32, activation='relu')),\n",
    "    \n",
    "    # Output layer with softmax activation for multi-class classification\n",
    "    TimeDistributed(Dense(num_classes, activation='softmax'))\n",
    "])\n",
    "\n",
    "# Compiling the model with Adam optimizer\n",
    "optimizer = tf.keras.optimizers.Adam(learning_rate=0.001)\n",
    "model2.compile(optimizer=optimizer, loss='categorical_crossentropy', metrics=['accuracy'])\n",
    "\n",
    "# Defining early stopping regularization for better generalization\n",
    "early_stopping = EarlyStopping(monitor='val_loss', patience=3, restore_best_weights=True)\n"
   ]
  },
  {
   "cell_type": "code",
   "execution_count": 19,
   "id": "48458b8e",
   "metadata": {},
   "outputs": [
    {
     "name": "stdout",
     "output_type": "stream",
     "text": [
      "Epoch 1/20\n",
      "173/173 [==============================] - 1274s 7s/step - loss: 0.5006 - accuracy: 0.8546 - val_loss: 0.2485 - val_accuracy: 0.9118\n",
      "Epoch 2/20\n",
      "173/173 [==============================] - 1029s 6s/step - loss: 0.2984 - accuracy: 0.8883 - val_loss: 0.2167 - val_accuracy: 0.9155\n",
      "Epoch 3/20\n",
      "173/173 [==============================] - 1051s 6s/step - loss: 0.2761 - accuracy: 0.8947 - val_loss: 0.2102 - val_accuracy: 0.9179\n",
      "Epoch 4/20\n",
      "173/173 [==============================] - 1080s 6s/step - loss: 0.2699 - accuracy: 0.8963 - val_loss: 0.2086 - val_accuracy: 0.9175\n",
      "Epoch 5/20\n",
      "173/173 [==============================] - 1080s 6s/step - loss: 0.2661 - accuracy: 0.8972 - val_loss: 0.2075 - val_accuracy: 0.9183\n",
      "Epoch 6/20\n",
      "173/173 [==============================] - 1082s 6s/step - loss: 0.2646 - accuracy: 0.8976 - val_loss: 0.2080 - val_accuracy: 0.9185\n",
      "Epoch 7/20\n",
      "173/173 [==============================] - 1121s 6s/step - loss: 0.2630 - accuracy: 0.8980 - val_loss: 0.2057 - val_accuracy: 0.9179\n",
      "Epoch 8/20\n",
      "173/173 [==============================] - 1112s 6s/step - loss: 0.2617 - accuracy: 0.8984 - val_loss: 0.2063 - val_accuracy: 0.9190\n",
      "Epoch 9/20\n",
      "173/173 [==============================] - 1078s 6s/step - loss: 0.2611 - accuracy: 0.8985 - val_loss: 0.2040 - val_accuracy: 0.9191\n",
      "Epoch 10/20\n",
      "173/173 [==============================] - 1018s 6s/step - loss: 0.2599 - accuracy: 0.8988 - val_loss: 0.2024 - val_accuracy: 0.9189\n",
      "Epoch 11/20\n",
      "173/173 [==============================] - 1015s 6s/step - loss: 0.2625 - accuracy: 0.8984 - val_loss: 0.2042 - val_accuracy: 0.9184\n",
      "Epoch 12/20\n",
      "173/173 [==============================] - 1022s 6s/step - loss: 0.2600 - accuracy: 0.8989 - val_loss: 0.2052 - val_accuracy: 0.9182\n",
      "Epoch 13/20\n",
      "173/173 [==============================] - 1002s 6s/step - loss: 0.2589 - accuracy: 0.8992 - val_loss: 0.2037 - val_accuracy: 0.9185\n"
     ]
    }
   ],
   "source": [
    "\n",
    "# Training of the model\n",
    "training2 = model2.fit(\n",
    "    train_embeddings, pss_train_onehot,\n",
    "    validation_data=(test_embeddings, pss_test_onehot),\n",
    "    epochs=20,  #  20 epochs\n",
    "    batch_size=32,\n",
    "    callbacks=[early_stopping]\n",
    ")"
   ]
  },
  {
   "cell_type": "code",
   "execution_count": 20,
   "id": "257d32f0",
   "metadata": {},
   "outputs": [
    {
     "name": "stdout",
     "output_type": "stream",
     "text": [
      "17/17 [==============================] - 25s 1s/step - loss: 0.2024 - accuracy: 0.9189\n",
      "Test Accuracy2: 91.89%\n"
     ]
    }
   ],
   "source": [
    "# Evaluating the model\n",
    "loss2, accuracy2 = model2.evaluate(test_embeddings, pss_test_onehot)\n",
    "print(f\"Test Accuracy2: {accuracy2 * 100:.2f}%\")"
   ]
  },
  {
   "cell_type": "code",
   "execution_count": 22,
   "id": "d4d81e59",
   "metadata": {},
   "outputs": [
    {
     "name": "stdout",
     "output_type": "stream",
     "text": [
      "17/17 [==============================] - 24s 1s/step\n"
     ]
    }
   ],
   "source": [
    "\n",
    "y_pred2 = model2.predict(test_embeddings)\n",
    "y_pred_labels2 = np.argmax(y_pred2, axis=-1).flatten()\n",
    "y_test_labels = np.argmax(pss_test_onehot, axis=-1).flatten()"
   ]
  },
  {
   "cell_type": "code",
   "execution_count": 23,
   "id": "7d70b075",
   "metadata": {},
   "outputs": [
    {
     "name": "stdout",
     "output_type": "stream",
     "text": [
      "Classification Report:\n"
     ]
    },
    {
     "name": "stderr",
     "output_type": "stream",
     "text": [
      "C:\\Users\\anjal\\anaconda3\\New folder\\envs\\renv\\lib\\site-packages\\sklearn\\metrics\\_classification.py:1318: UndefinedMetricWarning: Precision and F-score are ill-defined and being set to 0.0 in labels with no predicted samples. Use `zero_division` parameter to control this behavior.\n",
      "  _warn_prf(average, modifier, msg_start, len(result))\n"
     ]
    },
    {
     "name": "stdout",
     "output_type": "stream",
     "text": [
      "              precision    recall  f1-score   support\n",
      "\n",
      "           B       1.00      1.00      1.00    635502\n",
      "           E       0.35      0.02      0.03     18016\n",
      "           G       0.00      0.00      0.00      3132\n",
      "           H       0.32      0.96      0.48     26157\n",
      "           I       0.00      0.00      0.00        30\n",
      "           L       0.60      0.05      0.10     17920\n",
      "           S       0.00      0.00      0.00      8316\n",
      "           T       0.00      0.00      0.00     10013\n",
      "\n",
      "    accuracy                           0.92    719086\n",
      "   macro avg       0.28      0.25      0.20    719086\n",
      "weighted avg       0.92      0.92      0.90    719086\n",
      "\n"
     ]
    },
    {
     "name": "stderr",
     "output_type": "stream",
     "text": [
      "C:\\Users\\anjal\\anaconda3\\New folder\\envs\\renv\\lib\\site-packages\\sklearn\\metrics\\_classification.py:1318: UndefinedMetricWarning: Precision and F-score are ill-defined and being set to 0.0 in labels with no predicted samples. Use `zero_division` parameter to control this behavior.\n",
      "  _warn_prf(average, modifier, msg_start, len(result))\n",
      "C:\\Users\\anjal\\anaconda3\\New folder\\envs\\renv\\lib\\site-packages\\sklearn\\metrics\\_classification.py:1318: UndefinedMetricWarning: Precision and F-score are ill-defined and being set to 0.0 in labels with no predicted samples. Use `zero_division` parameter to control this behavior.\n",
      "  _warn_prf(average, modifier, msg_start, len(result))\n"
     ]
    }
   ],
   "source": [
    "# Classification report\n",
    "print(\"Classification Report:\")\n",
    "print(classification_report(y_test_labels, y_pred_labels2, target_names=label_encoder.classes_))"
   ]
  },
  {
   "cell_type": "code",
   "execution_count": 31,
   "id": "31e2cec2",
   "metadata": {},
   "outputs": [
    {
     "data": {
      "text/plain": [
       "Text(0.5, 1.0, 'Training and Validation Loss')"
      ]
     },
     "execution_count": 31,
     "metadata": {},
     "output_type": "execute_result"
    },
    {
     "data": {
      "image/png": "[encoded data removed]",
      "text/plain": [
       "<Figure size 1200x500 with 2 Axes>"
      ]
     },
     "metadata": {},
     "output_type": "display_data"
    }
   ],
   "source": [
    "plt.figure(figsize=(12, 5))\n",
    "\n",
    "# Plotting accuracy\n",
    "plt.subplot(1, 2, 1)\n",
    "plt.plot(training2.history['accuracy'], label='Train Accuracy')\n",
    "plt.plot(training2.history['val_accuracy'], label='Validation Accuracy')\n",
    "plt.xlabel('Epochs')\n",
    "plt.ylabel('Accuracy')\n",
    "plt.legend()\n",
    "plt.title('Training and Validation Accuracy')\n",
    "\n",
    "# Plotting loss\n",
    "plt.subplot(1, 2, 2)\n",
    "plt.plot(training2.history['loss'], label='Train Loss')\n",
    "plt.plot(training2.history['val_loss'], label='Validation Loss')\n",
    "plt.xlabel('Epochs')\n",
    "plt.ylabel('Loss')\n",
    "plt.legend()\n",
    "plt.title('Training and Validation Loss')"
   ]
  },
  {
   "cell_type": "code",
   "execution_count": null,
   "id": "5c21677b",
   "metadata": {},
   "outputs": [],
   "source": []
  },
  {
   "cell_type": "code",
   "execution_count": null,
   "id": "26b1d5a2",
   "metadata": {},
   "outputs": [],
   "source": []
  },
  {
   "cell_type": "code",
   "execution_count": null,
   "id": "b75edc13",
   "metadata": {},
   "outputs": [],
   "source": []
  }
 ],
 "metadata": {
  "kernelspec": {
   "display_name": "Python 3 (ipykernel)",
   "language": "python",
   "name": "python3"
  },
  "language_info": {
   "codemirror_mode": {
    "name": "ipython",
    "version": 3
   },
   "file_extension": ".py",
   "mimetype": "text/x-python",
   "name": "python",
   "nbconvert_exporter": "python",
   "pygments_lexer": "ipython3",
   "version": "3.7.16"
  }
 },
 "nbformat": 4,
 "nbformat_minor": 5
}
